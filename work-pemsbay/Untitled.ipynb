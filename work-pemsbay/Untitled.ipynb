{
 "cells": [
  {
   "cell_type": "code",
   "execution_count": 1,
   "metadata": {},
   "outputs": [],
   "source": [
    "import os\n",
    "import pickle as pk\n",
    "import numpy as np\n",
    "import matplotlib.pyplot as plt\n",
    "import torch\n",
    "import torch.nn as nn\n",
    "import pandas as pd\n",
    "import numpy as np\n",
    "import numpy.linalg as la\n",
    "import math\n",
    "import os\n",
    "import tgcn\n",
    "\n",
    "from tgcn import TGCN, TGCN2\n",
    "from load_data_tgcn import get_normalized_adj,preprocess_data,load_sz_data,load_los_data,load_pemsbay_data\n",
    "\n",
    "from sklearn.metrics import mean_squared_error,mean_absolute_error\n",
    "#import matplotlib.pyplot as plt\n",
    "import time\n",
    "\n",
    "time_start = time.time()\n",
    "###### Settings ######\n",
    "\n",
    "model_name = \"tgcn\"  ## 'tgcn'\n",
    "data_name = \"pemsbay\" ## 'sz or los.'\n",
    "train_rate = 0.8 ## 'rate of training set.'\n",
    "seq_len = 12 ## 'time length of inputs.'\n",
    "output_dim = pre_len = 3 ##'time length of prediction.'\n",
    "batch_size = 24 ##'batch size.'\n",
    "lr = 0.001 ##'Initial learning rate.'\n",
    "training_epoch = 1001 ##'Number of epochs to train.'\n",
    "gru_units = 100 ##'hidden units of gru.'\n",
    "\n",
    "# if torch.cuda.is_available():\n",
    "#     device = torch.device('cuda')\n",
    "# else:\n",
    "#     device = torch.device('cpu')\n",
    "\n",
    "os.environ['CUDA_VISIBLE_DEVICES']='3'\n",
    "device = torch.device('cuda')\n",
    "\n",
    "\n",
    "###### load data ######\n",
    "if data_name == 'pemsbay':\n",
    "    data, adj = load_pemsbay_data('pemsbay')\n",
    "\n",
    "# if data_name == 'sz':\n",
    "#     data, adj = load_sz_data('sz')\n",
    "# if data_name == 'los':\n",
    "#     data, adj = load_los_data('los')\n",
    "\n",
    "time_len = data.shape[0]  #图的数量\n",
    "num_nodes = data.shape[1]  #每个图的节点个数\n",
    "data1 =np.mat(data,dtype=np.float32)  #将panda数据转化为numpy矩阵\n",
    "\n",
    "#### normalization\n",
    "max_value = np.max(data1)\n",
    "data1  = data1/max_value   #将所有数据除以节点的最大值\n",
    "trainX, trainY, testX, testY = preprocess_data(data1, time_len, train_rate, seq_len, pre_len)\n",
    "\n",
    "# trainX形状为[len(train_data) - seq_len - pre_len,seq_len,num_nodes]\n",
    "# trainY形状为[len(train_data) - seq_len - pre_len,pre_len,num_nodes]\n",
    "\n",
    "totalbatch = int(trainX.shape[0]/batch_size) #batch的数量\n",
    "training_data_count = len(trainX)   ##训练数据的数量"
   ]
  },
  {
   "cell_type": "code",
   "execution_count": 4,
   "metadata": {},
   "outputs": [
    {
     "data": {
      "text/plain": [
       "torch.Size([41687, 12, 325])"
      ]
     },
     "execution_count": 4,
     "metadata": {},
     "output_type": "execute_result"
    }
   ],
   "source": [
    "trainX.shape"
   ]
  },
  {
   "cell_type": "code",
   "execution_count": 5,
   "metadata": {},
   "outputs": [
    {
     "data": {
      "text/plain": [
       "torch.Size([10411, 12, 325])"
      ]
     },
     "execution_count": 5,
     "metadata": {},
     "output_type": "execute_result"
    }
   ],
   "source": [
    "testX.shape"
   ]
  },
  {
   "cell_type": "code",
   "execution_count": null,
   "metadata": {},
   "outputs": [],
   "source": []
  }
 ],
 "metadata": {
  "kernelspec": {
   "display_name": "dcrnn",
   "language": "python",
   "name": "dcrnn"
  },
  "language_info": {
   "codemirror_mode": {
    "name": "ipython",
    "version": 3
   },
   "file_extension": ".py",
   "mimetype": "text/x-python",
   "name": "python",
   "nbconvert_exporter": "python",
   "pygments_lexer": "ipython3",
   "version": "3.6.6"
  }
 },
 "nbformat": 4,
 "nbformat_minor": 4
}
